{
  "nbformat": 4,
  "nbformat_minor": 0,
  "metadata": {
    "colab": {
      "provenance": [],
      "authorship_tag": "ABX9TyOAIIRraRB2CABFtEpIg3oi",
      "include_colab_link": true
    },
    "kernelspec": {
      "name": "python3",
      "display_name": "Python 3"
    },
    "language_info": {
      "name": "python"
    }
  },
  "cells": [
    {
      "cell_type": "markdown",
      "metadata": {
        "id": "view-in-github",
        "colab_type": "text"
      },
      "source": [
        "<a href=\"https://colab.research.google.com/github/Y4S1-Deep-Learning/Apple-Leaves-Desease-Detection---Supervised-Learning/blob/kaushalya/Mask_RCNN.ipynb\" target=\"_parent\"><img src=\"https://colab.research.google.com/assets/colab-badge.svg\" alt=\"Open In Colab\"/></a>"
      ]
    },
    {
      "cell_type": "markdown",
      "source": [
        "**Installing Mask RCNN**"
      ],
      "metadata": {
        "id": "pn5jDioIFeTQ"
      }
    },
    {
      "cell_type": "code",
      "source": [
        "!git clone https://github.com/akTwelve/Mask_RCNN.git"
      ],
      "metadata": {
        "id": "ZEYmPd5jFr5T"
      },
      "execution_count": null,
      "outputs": []
    },
    {
      "cell_type": "code",
      "source": [
        "import os\n",
        "import sys\n",
        "os.chdir('Mask_RCNN/samples')"
      ],
      "metadata": {
        "id": "ldgY7fmRFyYg"
      },
      "execution_count": null,
      "outputs": []
    },
    {
      "cell_type": "code",
      "source": [
        "ROOT_DIR = os.path.abspath(\"../\")\n",
        "sys.path.append(ROOT_DIR)"
      ],
      "metadata": {
        "id": "tD6xIlsTFzp0"
      },
      "execution_count": null,
      "outputs": []
    },
    {
      "cell_type": "markdown",
      "source": [
        "**Install libraries**"
      ],
      "metadata": {
        "id": "c_tO-PsIHS9O"
      }
    },
    {
      "cell_type": "code",
      "source": [
        "from os import listdir\n",
        "from xml.etree import ElementTree\n",
        "from numpy import zeros\n",
        "from numpy import asarray\n",
        "from Mask_RCNN.mrcnn.utils import Dataset\n",
        "from matplotlib import pyplot\n",
        "from Mask_RCNN.mrcnn.visualize import display_instances\n",
        "from Mask_RCNN.mrcnn.utils import extract_bboxes\n",
        "from Mask_RCNN.mrcnn.config import Config\n",
        "from Mask_RCNN.mrcnn import utils"
      ],
      "metadata": {
        "id": "kfnig3QCHSGr"
      },
      "execution_count": null,
      "outputs": []
    },
    {
      "cell_type": "markdown",
      "source": [
        "**Load training dataset**"
      ],
      "metadata": {
        "id": "LhqIE9LlIdyD"
      }
    },
    {
      "cell_type": "code",
      "source": [
        "#images_path = \"dataset/images.zip\"\n",
        "#annotation_path = \"dataset/annots.zip\"\n",
        "\n",
        "#!unzip(os.path.join(\"content\", images_path), \"/content/dataset/train/images\")\n",
        "!unzip \"/content/dataset/images.zip\" -d \"/content/dataset/train/\"\n",
        "!unzip \"/content/dataset/annots.zip\" -d \"/content/dataset/train/\""
      ],
      "metadata": {
        "id": "YZPM7ln1Ihuu"
      },
      "execution_count": null,
      "outputs": []
    }
  ]
}