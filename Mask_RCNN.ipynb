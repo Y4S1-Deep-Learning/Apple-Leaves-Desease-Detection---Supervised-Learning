{
  "nbformat": 4,
  "nbformat_minor": 0,
  "metadata": {
    "colab": {
      "provenance": [],
      "authorship_tag": "ABX9TyNXiOKGXLs8XW37hCkLtlNL",
      "include_colab_link": true
    },
    "kernelspec": {
      "name": "python3",
      "display_name": "Python 3"
    },
    "language_info": {
      "name": "python"
    }
  },
  "cells": [
    {
      "cell_type": "markdown",
      "metadata": {
        "id": "view-in-github",
        "colab_type": "text"
      },
      "source": [
        "<a href=\"https://colab.research.google.com/github/Y4S1-Deep-Learning/Apple-Leaves-Desease-Detection---Supervised-Learning/blob/kaushalya/Mask_RCNN.ipynb\" target=\"_parent\"><img src=\"https://colab.research.google.com/assets/colab-badge.svg\" alt=\"Open In Colab\"/></a>"
      ]
    },
    {
      "cell_type": "markdown",
      "source": [
        "**Downloading Kaggle Data sets directory into Colab**"
      ],
      "metadata": {
        "id": "hrogeV78E224"
      }
    },
    {
      "cell_type": "code",
      "execution_count": null,
      "metadata": {
        "id": "7wqy2Y1SEM-f"
      },
      "outputs": [],
      "source": [
        "!pip install kaggle"
      ]
    },
    {
      "cell_type": "code",
      "source": [
        "from google.colab import drive\n",
        "drive.mount('/content/drive')"
      ],
      "metadata": {
        "id": "_Ei5gV49E-dN"
      },
      "execution_count": null,
      "outputs": []
    },
    {
      "cell_type": "code",
      "source": [
        "!mkdir ~/.kaggle          #create a hidden folder in root directory"
      ],
      "metadata": {
        "id": "iiRmUs4jFCcq"
      },
      "execution_count": null,
      "outputs": []
    },
    {
      "cell_type": "code",
      "source": [
        "!cp /content/......... /kaggle.json ~/.kaggle/kaggle.json"
      ],
      "metadata": {
        "id": "5_As3DhNFFHY"
      },
      "execution_count": null,
      "outputs": []
    },
    {
      "cell_type": "code",
      "source": [
        "!kaggle datasets download hamishcrazeai/maize-in-field-dataset"
      ],
      "metadata": {
        "id": "eaqGFUVSFbzs"
      },
      "execution_count": null,
      "outputs": []
    },
    {
      "cell_type": "markdown",
      "source": [
        "**Installing Mask RCNN**"
      ],
      "metadata": {
        "id": "pn5jDioIFeTQ"
      }
    },
    {
      "cell_type": "code",
      "source": [
        "!git clone https://github.com/akTwelve/Mask_RCNN.git"
      ],
      "metadata": {
        "id": "ZEYmPd5jFr5T"
      },
      "execution_count": null,
      "outputs": []
    },
    {
      "cell_type": "code",
      "source": [
        "import os\n",
        "import sys\n",
        "os.chdir('Mask_RCNN/samples')"
      ],
      "metadata": {
        "id": "ldgY7fmRFyYg"
      },
      "execution_count": null,
      "outputs": []
    },
    {
      "cell_type": "code",
      "source": [
        "ROOT_DIR = os.path.abspath(\"../\")\n",
        "sys.path.append(ROOT_DIR)"
      ],
      "metadata": {
        "id": "tD6xIlsTFzp0"
      },
      "execution_count": null,
      "outputs": []
    }
  ]
}