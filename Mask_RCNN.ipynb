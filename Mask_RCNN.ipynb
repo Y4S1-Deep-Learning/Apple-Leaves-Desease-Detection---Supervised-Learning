{
  "nbformat": 4,
  "nbformat_minor": 0,
  "metadata": {
    "colab": {
      "provenance": [],
      "authorship_tag": "ABX9TyMfdQfWl+Ee/CJbyYdpHjTR",
      "include_colab_link": true
    },
    "kernelspec": {
      "name": "python3",
      "display_name": "Python 3"
    },
    "language_info": {
      "name": "python"
    }
  },
  "cells": [
    {
      "cell_type": "markdown",
      "metadata": {
        "id": "view-in-github",
        "colab_type": "text"
      },
      "source": [
        "<a href=\"https://colab.research.google.com/github/Y4S1-Deep-Learning/Apple-Leaves-Desease-Detection---Supervised-Learning/blob/kaushalya/Mask_RCNN.ipynb\" target=\"_parent\"><img src=\"https://colab.research.google.com/assets/colab-badge.svg\" alt=\"Open In Colab\"/></a>"
      ]
    },
    {
      "cell_type": "markdown",
      "source": [
        "**Installing Mask RCNN**"
      ],
      "metadata": {
        "id": "pn5jDioIFeTQ"
      }
    },
    {
      "cell_type": "code",
      "source": [
        "!git clone https://github.com/akTwelve/Mask_RCNN.git"
      ],
      "metadata": {
        "id": "ZEYmPd5jFr5T"
      },
      "execution_count": null,
      "outputs": []
    },
    {
      "cell_type": "code",
      "source": [
        "import os\n",
        "import sys\n",
        "os.chdir('Mask_RCNN/samples')"
      ],
      "metadata": {
        "id": "ldgY7fmRFyYg"
      },
      "execution_count": null,
      "outputs": []
    },
    {
      "cell_type": "code",
      "source": [
        "ROOT_DIR = os.path.abspath(\"../\")\n",
        "sys.path.append(ROOT_DIR)"
      ],
      "metadata": {
        "id": "tD6xIlsTFzp0"
      },
      "execution_count": null,
      "outputs": []
    },
    {
      "cell_type": "markdown",
      "source": [
        "**Install libraries**"
      ],
      "metadata": {
        "id": "c_tO-PsIHS9O"
      }
    },
    {
      "cell_type": "code",
      "source": [
        "from os import listdir\n",
        "from xml.etree import ElementTree\n",
        "from numpy import zeros\n",
        "from numpy import asarray\n",
        "from Mask_RCNN.mrcnn.utils import Dataset\n",
        "from matplotlib import pyplot\n",
        "from Mask_RCNN.mrcnn.visualize import display_instances\n",
        "from Mask_RCNN.mrcnn.utils import extract_bboxes\n",
        "from Mask_RCNN.mrcnn.config import Config\n",
        "from Mask_RCNN.mrcnn import utils"
      ],
      "metadata": {
        "id": "kfnig3QCHSGr"
      },
      "execution_count": null,
      "outputs": []
    },
    {
      "cell_type": "markdown",
      "source": [
        "**Load training dataset**"
      ],
      "metadata": {
        "id": "LhqIE9LlIdyD"
      }
    },
    {
      "cell_type": "code",
      "source": [
        "#images_path = \"dataset/images.zip\"\n",
        "#annotation_path = \"dataset/annots.zip\"\n",
        "\n",
        "#!unzip(os.path.join(\"content\", images_path), \"/content/dataset/train/images\")\n",
        "!unzip \"/content/dataset/images.zip\" -d \"/content/dataset/train/\"\n",
        "!unzip \"/content/dataset/annots.zip\" -d \"/content/dataset/train/\""
      ],
      "metadata": {
        "id": "YZPM7ln1Ihuu"
      },
      "execution_count": null,
      "outputs": []
    },
    {
      "cell_type": "code",
      "source": [
        "class AppleLeafDataset(Dataset):\n",
        "    # load the dataset definitions\n",
        "    def load_dataset(self, dataset_dir, is_train=True):\n",
        "        # define classes\n",
        "        self.add_class(\"dataset\", 1, \"Black Rot\")\n",
        "        self.add_class(\"dataset\", 2, \"Apple Scab\")\n",
        "        self.add_class(\"dataset\", 3, \"Cedar Apple\")\n",
        "\n",
        "        # define data locations\n",
        "        images_dir = dataset_dir + '/images/'\n",
        "        annotations_dir = dataset_dir + '/annots/'\n",
        "\n",
        "\n",
        "\t\t# find all images\n",
        "        for filename in listdir(images_dir):\n",
        "            print(filename)\n",
        "\t\t\t# extract image id\n",
        "            image_id = filename[:-4]\n",
        "\t\t\t#print('IMAGE ID: ',image_id)\n",
        "\n",
        "\t\t\t# skip all images after 115 if we are building the train set\n",
        "            if is_train and int(image_id) >= 250:\n",
        "                continue\n",
        "\t\t\t# skip all images before 115 if we are building the test/val set\n",
        "            if not is_train and int(image_id) < 250:\n",
        "                continue\n",
        "            img_path = images_dir + filename\n",
        "            ann_path = annotations_dir + image_id + '.xml'\n",
        "\t\t\t# add to dataset\n",
        "            self.add_image('dataset', image_id=image_id, path=img_path, annotation=ann_path, class_ids = [0,1,2,3])\n",
        "\n",
        "\n",
        "\t# extract bounding boxes from an annotation file\n",
        "    def extract_boxes(self, filename):\n",
        "\t\t# load and parse the file\n",
        "        tree = ElementTree.parse(filename)\n",
        "\t\t# get the root of the document\n",
        "        root = tree.getroot()\n",
        "\t\t# extract each bounding box\n",
        "        boxes = list()\n",
        "        for box in root.findall('.//object'):\n",
        "            name = box.find('name').text   #Add label name to the box list\n",
        "            xmin = int(box.find('./bndbox/xmin').text)\n",
        "            ymin = int(box.find('./bndbox/ymin').text)\n",
        "            xmax = int(box.find('./bndbox/xmax').text)\n",
        "            ymax = int(box.find('./bndbox/ymax').text)\n",
        "            coors = [xmin, ymin, xmax, ymax, name]\n",
        "            boxes.append(coors)\n",
        "\t\t# extract image dimensions\n",
        "        width = int(root.find('.//size/width').text)\n",
        "        height = int(root.find('.//size/height').text)\n",
        "        return boxes, width, height\n",
        "\n",
        "\t# load the masks for an image\n",
        "    def load_mask(self, image_id):\n",
        "\t\t# get details of image\n",
        "        info = self.image_info[image_id]\n",
        "\t\t# define box file location\n",
        "        path = info['annotation']\n",
        "        #return info, path\n",
        "\n",
        "\n",
        "\t\t# load XML\n",
        "        boxes, w, h = self.extract_boxes(path)\n",
        "\t\t# create one array for all masks, each on a different channel\n",
        "        masks = zeros([h, w, len(boxes)], dtype='uint8')\n",
        "\t\t# create masks\n",
        "        class_ids = list()\n",
        "        for i in range(len(boxes)):\n",
        "            box = boxes[i]\n",
        "            row_s, row_e = box[1], box[3]\n",
        "            col_s, col_e = box[0], box[2]\n",
        "\n",
        "\n",
        "            # box[4] will have the name of the class\n",
        "            if (box[4] == 'Black Rot'):\n",
        "                masks[row_s:row_e, col_s:col_e, i] = 1\n",
        "                class_ids.append(self.class_names.index('Black Rot'))\n",
        "            elif(box[4] == 'Apple Scab'):\n",
        "                masks[row_s:row_e, col_s:col_e, i] = 2\n",
        "                class_ids.append(self.class_names.index('Apple Scab'))\n",
        "            elif(box[4] == 'Cedar Apple'):\n",
        "                masks[row_s:row_e, col_s:col_e, i] = 3\n",
        "                class_ids.append(self.class_names.index('Cedar Apple'))\n",
        "\n",
        "        return masks, asarray(class_ids, dtype='int32')\n",
        "\n",
        "\n",
        "\t# load an image reference\n",
        "    def image_reference(self, image_id):\n",
        "        info = self.image_info[image_id]\n",
        "        return info['path']"
      ],
      "metadata": {
        "id": "HeBEblJ8t8zl"
      },
      "execution_count": null,
      "outputs": []
    },
    {
      "cell_type": "code",
      "source": [
        "dataset_dir = \"/content/dataset/train\"\n",
        "# train set\n",
        "train_set = AppleLeafDataset()\n",
        "train_set.load_dataset(dataset_dir, is_train=True)\n",
        "train_set.prepare()\n",
        "print('Train: %d' % len(train_set.image_ids))\n",
        "\n",
        "# test/val set\n",
        "test_set = AppleLeafDataset()\n",
        "test_set.load_dataset(dataset_dir, is_train=False)\n",
        "test_set.prepare()\n",
        "print('Test: %d' % len(test_set.image_ids))\n",
        "\n",
        "import random\n",
        "num=random.randint(0, len(train_set.image_ids))\n",
        "# define image id\n",
        "image_id = num\n",
        "# load the image\n",
        "image = train_set.load_image(image_id)\n",
        "# load the masks and the class ids\n",
        "mask, class_ids = train_set.load_mask(image_id)\n",
        "# extract bounding boxes from the masks\n",
        "bbox = extract_bboxes(mask)\n",
        "# display image with masks and bounding boxes\n",
        "display_instances(image, bbox, mask, class_ids, train_set.class_names)"
      ],
      "metadata": {
        "id": "fmrIrFMIUHi0"
      },
      "execution_count": null,
      "outputs": []
    },
    {
      "cell_type": "markdown",
      "source": [
        "**Training**"
      ],
      "metadata": {
        "id": "aOULOCuK_gEl"
      }
    },
    {
      "cell_type": "code",
      "source": [
        "# define a configuration for the model\n",
        "class AppleLeavesConfig(Config):\n",
        "\t# define the name of the configuration\n",
        "\tNAME = \"object\"\n",
        "\n",
        "\tNUM_CLASSES = 1 + 3\n",
        "\t# number of training steps per epoch\n",
        "\tSTEPS_PER_EPOCH = 10\n",
        "\n",
        "# prepare config\n",
        "config = AppleLeavesConfig()\n",
        "config.display()"
      ],
      "metadata": {
        "id": "bs7NWlnh_j8r"
      },
      "execution_count": null,
      "outputs": []
    },
    {
      "cell_type": "code",
      "source": [
        "# Directory to save logs and trained model\n",
        "DEFAULT_LOGS_DIR = os.path.join(ROOT_DIR, \"logs\")"
      ],
      "metadata": {
        "id": "jeiqySQI_zmy"
      },
      "execution_count": null,
      "outputs": []
    },
    {
      "cell_type": "code",
      "source": [
        "import keras\n",
        "print(keras.__version__)"
      ],
      "metadata": {
        "id": "TzwKab4t_2BU"
      },
      "execution_count": null,
      "outputs": []
    },
    {
      "cell_type": "code",
      "source": [
        "!pip install --upgrade keras    #upgrade keras"
      ],
      "metadata": {
        "id": "qRBjdTzH_4dH"
      },
      "execution_count": null,
      "outputs": []
    },
    {
      "cell_type": "code",
      "source": [
        "from Mask_RCNN.mrcnn.model import MaskRCNN\n",
        "\n",
        "from keras import models\n",
        "model = models.Sequential()"
      ],
      "metadata": {
        "id": "AJmyQqQiABAV"
      },
      "execution_count": null,
      "outputs": []
    },
    {
      "cell_type": "code",
      "source": [
        "# define the model\n",
        "model = MaskRCNN(mode='training', model_dir=\"logs\", config=config)\n",
        "# load weights (mscoco) and exclude the output layers\n",
        "model.load_weights(\"/content/mask_rcnn_coco.h5\", by_name=True, exclude=[\"mrcnn_class_logits\", \"mrcnn_bbox_fc\",  \"mrcnn_bbox\", \"mrcnn_mask\"])\n",
        "\n",
        "\n",
        "# train weights (output layers or 'heads')\n",
        "model.train(train_set, test_set, learning_rate=config.LEARNING_RATE, epochs=20, layers='heads')"
      ],
      "metadata": {
        "id": "0ggRfuWwAHOP"
      },
      "execution_count": null,
      "outputs": []
    },
    {
      "cell_type": "code",
      "source": [
        "from matplotlib.patches import Rectangle"
      ],
      "metadata": {
        "id": "Fd-k5lrsAMe7"
      },
      "execution_count": null,
      "outputs": []
    }
  ]
}